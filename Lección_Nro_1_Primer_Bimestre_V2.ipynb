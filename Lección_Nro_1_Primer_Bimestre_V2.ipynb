{
  "cells": [
    {
      "cell_type": "markdown",
      "metadata": {
        "id": "view-in-github",
        "colab_type": "text"
      },
      "source": [
        "<a href=\"https://colab.research.google.com/github/jjcalle3/Demo/blob/main/Lecci%C3%B3n_Nro_1_Primer_Bimestre_V2.ipynb\" target=\"_parent\"><img src=\"https://colab.research.google.com/assets/colab-badge.svg\" alt=\"Open In Colab\"/></a>"
      ]
    },
    {
      "cell_type": "markdown",
      "source": [
        "## LECCIÓN NRO. 1 - PYTHON BÁSICO APLICADO A LA INGENIERÍA\n",
        "\n",
        "~~~\n",
        "Nombre de estudiante: \n",
        "Fecha:                 2022/05/11\n",
        "~~~"
      ],
      "metadata": {
        "datalore": {
          "type": "MD",
          "hide_input_from_viewers": false,
          "hide_output_from_viewers": false
        },
        "id": "cPelIrDg-EFY"
      }
    },
    {
      "cell_type": "markdown",
      "source": [
        "### Problema 1 (5 Pts.)\n",
        "Dado el número entero N, la cantidad de minutos transcurridos desde la medianoche, ¿cuántas horas y minutos se muestran en el reloj digital de 24 horas?\n",
        "\n",
        "El programa debe imprimir dos números: el número de horas (entre 0 y 23) y el número de minutos (entre 0 y 59).\n",
        "\n",
        "Por ejemplo, si N = 150, entonces han pasado 150 minutos desde la medianoche, es decir, ahora son las 2:30 am. Entonces el programa debería imprimir 2 30\n",
        "\n",
        "Ayuda: recuerde el uso de los operadores //, %"
      ],
      "metadata": {
        "datalore": {
          "type": "MD",
          "hide_input_from_viewers": false,
          "hide_output_from_viewers": false
        },
        "id": "aogkZyfo-EFh"
      }
    },
    {
      "cell_type": "code",
      "source": [
        ""
      ],
      "execution_count": null,
      "outputs": [],
      "metadata": {
        "datalore": {
          "type": "CODE",
          "hide_input_from_viewers": false,
          "hide_output_from_viewers": false
        },
        "id": "FSbodhJw-EFj"
      }
    },
    {
      "cell_type": "markdown",
      "source": [
        "### Problema 2 (5 Pts.)\n",
        "\n",
        "Dado un número entero de cuatro dígitos, realice su rotación cíclica por dos dígitos, como se muestra a continuación. \n",
        "\n",
        "\n",
        "Ejemplos\n",
        "~~~\n",
        "Ej. 1\n",
        "Entrada: 1234\n",
        "Respuesta: 3412\n",
        "\n",
        "Ej2. 2\n",
        "Entrada: 9876\n",
        "Respuesta: 7698\n",
        "~~~\n",
        "\n",
        "Ayuda: Recuerde el uso de la técnica de slicing(\"secciones\"), la función `int()`, `str()`"
      ],
      "metadata": {
        "datalore": {
          "type": "MD",
          "hide_input_from_viewers": false,
          "hide_output_from_viewers": false
        },
        "id": "oCZPpXQ3-EFl"
      }
    },
    {
      "cell_type": "code",
      "source": [
        ""
      ],
      "execution_count": null,
      "outputs": [],
      "metadata": {
        "datalore": {
          "type": "CODE",
          "hide_input_from_viewers": false,
          "hide_output_from_viewers": false
        },
        "id": "b_Tu1MJd-EFm"
      }
    }
  ],
  "metadata": {
    "datalore": {
      "version": 1,
      "computation_mode": "JUPYTER",
      "package_manager": "pip",
      "base_environment": "default",
      "packages": []
    },
    "colab": {
      "name": "Lección Nro. 1 - Primer Bimestre V2.ipynb",
      "provenance": [],
      "include_colab_link": true
    }
  },
  "nbformat": 4,
  "nbformat_minor": 0
}